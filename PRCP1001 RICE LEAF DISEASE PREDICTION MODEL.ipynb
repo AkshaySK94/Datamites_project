{
 "cells": [
  {
   "cell_type": "markdown",
   "metadata": {},
   "source": [
    "# PROJECT CODE: PRCP-1001-RiceLeaf\n",
    "# PROJECT NAME: Rice Leaf Disease using CNN\n",
    "# PROJECT TEAM ID: PTID-CDS-JUL21-1172\n",
    "\n",
    "\n",
    "## Problem definition:\n",
    "To build a convolutional neural network to classify infected rice leaf images as one of the three major diseases(bacterial leaf blight, brown spot and leaf smut)"
   ]
  },
  {
   "cell_type": "markdown",
   "metadata": {},
   "source": [
    "# INTRODUCTION\n",
    "Convolutional neural networks are mainly used for image classification problems. The same is used in this project for classifying images of rice plant infected by either of the three most common rice diseases, that are: \n",
    "#### Bacterial leaf blight\n",
    "#### Brown spot\n",
    "#### Leaf smut"
   ]
  },
  {
   "cell_type": "markdown",
   "metadata": {},
   "source": [
    "The dataset given for training and testing the model contained images of rice leaves. There are three classes/diseases: Bacterial leaf blight, Brown spot, and Leaf smut, each having 40 images. The format of all images are jpg.Majority of the images  comprises of the picture of the infected leaf in a white background. These images where uploaded to drive for using in colab, wherin either of the two GPUs (Nvidia Tesla T4 or Nvidia Tesla G80) was allocated for image processing. The project was also tried out in Jupyter notebook, where the system GPU was utilized using the Nvidia CUDA and CuDNN softwares."
   ]
  },
  {
   "cell_type": "markdown",
   "metadata": {},
   "source": [
    "## step 1: Import necessary libraries and packages"
   ]
  },
  {
   "cell_type": "code",
   "execution_count": 10,
   "metadata": {
    "id": "dGMyPMkkiHz3"
   },
   "outputs": [],
   "source": [
    "import tensorflow as tf"
   ]
  },
  {
   "cell_type": "code",
   "execution_count": 11,
   "metadata": {
    "id": "M6WNBhep4ufU"
   },
   "outputs": [],
   "source": [
    "from tensorflow import keras"
   ]
  },
  {
   "cell_type": "code",
   "execution_count": 12,
   "metadata": {
    "id": "x8Wy8Dy2iMC6"
   },
   "outputs": [],
   "source": [
    "from keras.layers import Conv2D,MaxPool2D,Flatten,Dropout,Dense"
   ]
  },
  {
   "cell_type": "code",
   "execution_count": 14,
   "metadata": {
    "id": "SIAxaaPiia-A"
   },
   "outputs": [],
   "source": [
    "from tensorflow.keras.models import Sequential"
   ]
  },
  {
   "cell_type": "code",
   "execution_count": 15,
   "metadata": {
    "id": "2d8YVwJNiqpO"
   },
   "outputs": [],
   "source": [
    "from keras_tuner.tuners import RandomSearch\n",
    "from keras_tuner import HyperModel"
   ]
  },
  {
   "cell_type": "code",
   "execution_count": 16,
   "metadata": {
    "id": "4iRI_KIrmSuu"
   },
   "outputs": [],
   "source": [
    "from keras.preprocessing.image import ImageDataGenerator"
   ]
  },
  {
   "cell_type": "code",
   "execution_count": 17,
   "metadata": {},
   "outputs": [],
   "source": [
    "import matplotlib.pyplot as plt"
   ]
  },
  {
   "cell_type": "code",
   "execution_count": 18,
   "metadata": {},
   "outputs": [],
   "source": [
    "import pickle"
   ]
  },
  {
   "cell_type": "markdown",
   "metadata": {},
   "source": [
    "## step 2: Loading the image data set and preprocessing\n",
    "This is done by using the ImageDataGenerator package from keras. Preprocessing involve setting the shear range and zoom  range to appropriate values and normalizing the images by dividing the pixel intensities by 255 using the recale argument. "
   ]
  },
  {
   "cell_type": "code",
   "execution_count": 19,
   "metadata": {
    "id": "pelrIqZ6k6L5"
   },
   "outputs": [],
   "source": [
    "# initialize the ImageDataGenerator\n",
    "img=ImageDataGenerator(shear_range=0.2,zoom_range=0.2,rescale=1/255)"
   ]
  },
  {
   "cell_type": "code",
   "execution_count": 21,
   "metadata": {
    "colab": {
     "base_uri": "https://localhost:8080/"
    },
    "id": "0I5qufyIld98",
    "outputId": "978ae2f9-2c45-478d-d664-aad3a586b52f"
   },
   "outputs": [
    {
     "name": "stdout",
     "output_type": "stream",
     "text": [
      "Found 119 images belonging to 3 classes.\n"
     ]
    }
   ],
   "source": [
    "# load the images from drive/local folder\n",
    "data=img.flow_from_directory('C:\\\\Users\\\\arshad\\\\OneDrive\\\\Desktop\\\\rice disease project',target_size=(225,225),batch_size=119)"
   ]
  },
  {
   "cell_type": "code",
   "execution_count": 22,
   "metadata": {
    "id": "aQo0ExZOlRjq"
   },
   "outputs": [],
   "source": [
    "# splitting the predictors and the target variable\n",
    "# here the image dataset is stored in x and the target variable(oneHotEncoded labels of the 3 disease classes) is stored in y\n",
    "x,y=data.next()"
   ]
  },
  {
   "cell_type": "markdown",
   "metadata": {},
   "source": [
    "## Checking the preprocessed dataset"
   ]
  },
  {
   "cell_type": "code",
   "execution_count": 23,
   "metadata": {},
   "outputs": [
    {
     "data": {
      "text/plain": [
       "array([[[1., 1., 1.],\n",
       "        [1., 1., 1.],\n",
       "        [1., 1., 1.],\n",
       "        ...,\n",
       "        [1., 1., 1.],\n",
       "        [1., 1., 1.],\n",
       "        [1., 1., 1.]],\n",
       "\n",
       "       [[1., 1., 1.],\n",
       "        [1., 1., 1.],\n",
       "        [1., 1., 1.],\n",
       "        ...,\n",
       "        [1., 1., 1.],\n",
       "        [1., 1., 1.],\n",
       "        [1., 1., 1.]],\n",
       "\n",
       "       [[1., 1., 1.],\n",
       "        [1., 1., 1.],\n",
       "        [1., 1., 1.],\n",
       "        ...,\n",
       "        [1., 1., 1.],\n",
       "        [1., 1., 1.],\n",
       "        [1., 1., 1.]],\n",
       "\n",
       "       ...,\n",
       "\n",
       "       [[1., 1., 1.],\n",
       "        [1., 1., 1.],\n",
       "        [1., 1., 1.],\n",
       "        ...,\n",
       "        [1., 1., 1.],\n",
       "        [1., 1., 1.],\n",
       "        [1., 1., 1.]],\n",
       "\n",
       "       [[1., 1., 1.],\n",
       "        [1., 1., 1.],\n",
       "        [1., 1., 1.],\n",
       "        ...,\n",
       "        [1., 1., 1.],\n",
       "        [1., 1., 1.],\n",
       "        [1., 1., 1.]],\n",
       "\n",
       "       [[1., 1., 1.],\n",
       "        [1., 1., 1.],\n",
       "        [1., 1., 1.],\n",
       "        ...,\n",
       "        [1., 1., 1.],\n",
       "        [1., 1., 1.],\n",
       "        [1., 1., 1.]]], dtype=float32)"
      ]
     },
     "execution_count": 23,
     "metadata": {},
     "output_type": "execute_result"
    }
   ],
   "source": [
    "x[25]"
   ]
  },
  {
   "cell_type": "code",
   "execution_count": 24,
   "metadata": {},
   "outputs": [
    {
     "data": {
      "text/plain": [
       "(225, 225, 3)"
      ]
     },
     "execution_count": 24,
     "metadata": {},
     "output_type": "execute_result"
    }
   ],
   "source": [
    "x[112].shape"
   ]
  },
  {
   "cell_type": "code",
   "execution_count": 25,
   "metadata": {
    "colab": {
     "base_uri": "https://localhost:8080/",
     "height": 287
    },
    "id": "qnd9XtlgjmSo",
    "outputId": "d2f384c6-3a97-417c-e5b5-4dbf283673aa"
   },
   "outputs": [
    {
     "data": {
      "text/plain": [
       "<matplotlib.image.AxesImage at 0x1f63118d6a0>"
      ]
     },
     "execution_count": 25,
     "metadata": {},
     "output_type": "execute_result"
    },
    {
     "data": {
      "image/png": "[encoded data removed]",
      "text/plain": [
       "<Figure size 432x288 with 1 Axes>"
      ]
     },
     "metadata": {
      "needs_background": "light"
     },
     "output_type": "display_data"
    }
   ],
   "source": [
    "plt.imshow(x[25])"
   ]
  },
  {
   "cell_type": "code",
   "execution_count": 26,
   "metadata": {
    "colab": {
     "base_uri": "https://localhost:8080/"
    },
    "id": "k9eRtra0jsvs",
    "outputId": "b00e5103-3f0f-4b7f-9e82-59b9b582f28c"
   },
   "outputs": [
    {
     "data": {
      "text/plain": [
       "array([0., 1., 0.], dtype=float32)"
      ]
     },
     "execution_count": 26,
     "metadata": {},
     "output_type": "execute_result"
    }
   ],
   "source": [
    "y[25] #brownspot"
   ]
  },
  {
   "cell_type": "code",
   "execution_count": 27,
   "metadata": {},
   "outputs": [
    {
     "data": {
      "text/plain": [
       "array([[[0.93725497, 0.8941177 , 0.8705883 ],\n",
       "        [0.93725497, 0.8941177 , 0.8705883 ],\n",
       "        [0.93725497, 0.89025086, 0.86672145],\n",
       "        ...,\n",
       "        [0.9312935 , 0.8884727 , 0.86290336],\n",
       "        [0.9333334 , 0.882353  , 0.8588236 ],\n",
       "        [0.9333334 , 0.882353  , 0.8588236 ]],\n",
       "\n",
       "       [[0.93725497, 0.8941177 , 0.8705883 ],\n",
       "        [0.93725497, 0.8941177 , 0.8705883 ],\n",
       "        [0.93725497, 0.89025086, 0.86672145],\n",
       "        ...,\n",
       "        [0.9312935 , 0.8884727 , 0.86290336],\n",
       "        [0.9333334 , 0.882353  , 0.8588236 ],\n",
       "        [0.9333334 , 0.882353  , 0.8588236 ]],\n",
       "\n",
       "       [[0.93725497, 0.8941177 , 0.8705883 ],\n",
       "        [0.93725497, 0.8941177 , 0.8705883 ],\n",
       "        [0.93725497, 0.89025086, 0.86672145],\n",
       "        ...,\n",
       "        [0.9312935 , 0.8884727 , 0.86290336],\n",
       "        [0.9333334 , 0.882353  , 0.8588236 ],\n",
       "        [0.9333334 , 0.882353  , 0.8588236 ]],\n",
       "\n",
       "       ...,\n",
       "\n",
       "       [[0.93725497, 0.8941177 , 0.8705883 ],\n",
       "        [0.93725497, 0.8941177 , 0.8705883 ],\n",
       "        [0.93725497, 0.89025086, 0.86285466],\n",
       "        ...,\n",
       "        [0.93145174, 0.88203657, 0.854902  ],\n",
       "        [0.9294118 , 0.89019614, 0.854902  ],\n",
       "        [0.9294118 , 0.89019614, 0.854902  ]],\n",
       "\n",
       "       [[0.93725497, 0.8941177 , 0.8705883 ],\n",
       "        [0.93725497, 0.8941177 , 0.8705883 ],\n",
       "        [0.93725497, 0.89025086, 0.86285466],\n",
       "        ...,\n",
       "        [0.93145174, 0.88203657, 0.854902  ],\n",
       "        [0.9294118 , 0.89019614, 0.854902  ],\n",
       "        [0.9294118 , 0.89019614, 0.854902  ]],\n",
       "\n",
       "       [[0.93725497, 0.8941177 , 0.8705883 ],\n",
       "        [0.93725497, 0.8941177 , 0.8705883 ],\n",
       "        [0.93725497, 0.89025086, 0.86285466],\n",
       "        ...,\n",
       "        [0.93145174, 0.88203657, 0.854902  ],\n",
       "        [0.9294118 , 0.89019614, 0.854902  ],\n",
       "        [0.9294118 , 0.89019614, 0.854902  ]]], dtype=float32)"
      ]
     },
     "execution_count": 27,
     "metadata": {},
     "output_type": "execute_result"
    }
   ],
   "source": [
    "x[112]"
   ]
  },
  {
   "cell_type": "code",
   "execution_count": 28,
   "metadata": {},
   "outputs": [
    {
     "data": {
      "text/plain": [
       "(225, 225, 3)"
      ]
     },
     "execution_count": 28,
     "metadata": {},
     "output_type": "execute_result"
    }
   ],
   "source": [
    "x[112].shape"
   ]
  },
  {
   "cell_type": "code",
   "execution_count": 29,
   "metadata": {},
   "outputs": [
    {
     "data": {
      "text/plain": [
       "<matplotlib.image.AxesImage at 0x1f631230160>"
      ]
     },
     "execution_count": 29,
     "metadata": {},
     "output_type": "execute_result"
    },
    {
     "data": {
      "image/png": "[encoded data removed]",
      "text/plain": [
       "<Figure size 432x288 with 1 Axes>"
      ]
     },
     "metadata": {
      "needs_background": "light"
     },
     "output_type": "display_data"
    }
   ],
   "source": [
    "plt.imshow(x[112])"
   ]
  },
  {
   "cell_type": "code",
   "execution_count": 30,
   "metadata": {},
   "outputs": [
    {
     "data": {
      "text/plain": [
       "array([0., 0., 1.], dtype=float32)"
      ]
     },
     "execution_count": 30,
     "metadata": {},
     "output_type": "execute_result"
    }
   ],
   "source": [
    "y[112] #leaf smut"
   ]
  },
  {
   "cell_type": "markdown",
   "metadata": {},
   "source": [
    "## Spltting the dataset into training and test data"
   ]
  },
  {
   "cell_type": "code",
   "execution_count": 31,
   "metadata": {
    "id": "TVOYArs75eVJ"
   },
   "outputs": [],
   "source": [
    "from sklearn.model_selection import train_test_split\n"
   ]
  },
  {
   "cell_type": "code",
   "execution_count": 32,
   "metadata": {
    "id": "sG3F8UmF50yS"
   },
   "outputs": [],
   "source": [
    "x_train, x_test, y_train, y_test = train_test_split(x, y, test_size=0.20, random_state=42)"
   ]
  },
  {
   "cell_type": "markdown",
   "metadata": {},
   "source": [
    "# Hyperparameter tuning and building the model"
   ]
  },
  {
   "cell_type": "markdown",
   "metadata": {},
   "source": [
    "A suitable CNN architecture is selected after a lot of trial and error and hyper parameter tuning is carried out.\n",
    "Hyperparameter tuning invovles defining a hypermodel(using HyperModel package from kerastuner API), a build function in which the hyperparameters(hp) are specified and finally running various combinations of the hyperparameters using either RandomSearch, Hyperband or Hyperas packages from kerastuner API"
   ]
  },
  {
   "cell_type": "code",
   "execution_count": 32,
   "metadata": {
    "id": "LbPaWi3ZOV68"
   },
   "outputs": [],
   "source": [
    "def build_model():\n",
    "  from kerastuner import HyperModel\n",
    "\n",
    "\n",
    "class CNNHyperModel(HyperModel):\n",
    "    def __init__(self, input_shape, num_classes):\n",
    "        self.input_shape = input_shape\n",
    "        self.num_classes = num_classes\n",
    "\n",
    "    def build(self, hp):\n",
    "      model=keras.Sequential()\n",
    "      for a in list(range(hp.Int('layers1',min_value=1,max_value=3,step=1,default=1))):\n",
    "        model.add(Conv2D(filters=hp.Choice('num_filters1'+ str(a),values=(16,32,64)),kernel_size=(3,3),activation='relu',input_shape=(225,225,3)))\n",
    "      model.add(MaxPool2D(pool_size=(2,2)))\n",
    "      for b in list(range(hp.Int('layers2',min_value=1,max_value=3,step=1,default=1))):\n",
    "        model.add(Conv2D(filters=hp.Choice('num_filters2'+str(b),values=(16,32,64)),kernel_size=(3,3),activation='relu'))\n",
    "      \n",
    "      model.add(MaxPool2D(pool_size=(2,2)))\n",
    "      \n",
    "      model.add(Flatten())\n",
    "      for c in list(range(hp.Int('dense_layers',min_value=1,max_value=6,default=1))):\n",
    "        model.add(Dense(units=hp.Int('units'+str(c),min_value=100,max_value=10000,step=20),activation='relu'))\n",
    "      model.add(Dense(3,activation='softmax'))\n",
    "      model.compile(loss='categorical_crossentropy',\n",
    "              optimizer=keras.optimizers.Adam(learning_rate=hp.Choice('lr',values=(1e-1,1e-2,1e-3,1e-4))),\n",
    "              metrics='accuracy')\n",
    "      return model\n",
    "hypermodel=CNNHyperModel(input_shape=(225,225,3),num_classes=3)"
   ]
  },
  {
   "cell_type": "code",
   "execution_count": 26,
   "metadata": {
    "id": "_M-hdKs72Lx1"
   },
   "outputs": [],
   "source": [
    "# option 1\n",
    "#from keras_tuner.tuners import Hyperband\n",
    "#tuner = Hyperband(\n",
    "#    hypermodel,\n",
    "#    max_epochs=10,\n",
    "#    objective='val_accuracy',\n",
    "#    seed=42,\n",
    "    \n",
    "#    executions_per_trial=1,\n",
    "#    directory='hyperband',\n",
    "#    project_name='rice2'\n",
    "#)\n",
    "\n"
   ]
  },
  {
   "cell_type": "code",
   "execution_count": 33,
   "metadata": {
    "id": "6zoRXtoopeah"
   },
   "outputs": [],
   "source": [
    "# option 2\n",
    "tuner=RandomSearch(hypermodel,\n",
    "                   objective='val_accuracy',\n",
    "                   max_trials=65,\n",
    "                   executions_per_trial=1)"
   ]
  },
  {
   "cell_type": "markdown",
   "metadata": {},
   "source": [
    "## Checking the hyperparameters and assigned values for each"
   ]
  },
  {
   "cell_type": "code",
   "execution_count": 34,
   "metadata": {
    "colab": {
     "base_uri": "https://localhost:8080/"
    },
    "id": "1_EM4lft2rfM",
    "outputId": "15edfcec-73cb-4ab9-85cb-296c13cef99c"
   },
   "outputs": [
    {
     "name": "stdout",
     "output_type": "stream",
     "text": [
      "Search space summary\n",
      "Default search space size: 8\n",
      "layers1 (Int)\n",
      "{'default': 1, 'conditions': [], 'min_value': 1, 'max_value': 3, 'step': 1, 'sampling': None}\n",
      "num_filters10 (Choice)\n",
      "{'default': 16, 'conditions': [], 'values': [16, 32, 64], 'ordered': True}\n",
      "layers2 (Int)\n",
      "{'default': 1, 'conditions': [], 'min_value': 1, 'max_value': 3, 'step': 1, 'sampling': None}\n",
      "num_filters20 (Choice)\n",
      "{'default': 16, 'conditions': [], 'values': [16, 32, 64], 'ordered': True}\n",
      "dense_layers (Int)\n",
      "{'default': 2, 'conditions': [], 'min_value': 1, 'max_value': 6, 'step': 1, 'sampling': None}\n",
      "units0 (Int)\n",
      "{'default': None, 'conditions': [], 'min_value': 100, 'max_value': 1200, 'step': 20, 'sampling': None}\n",
      "units1 (Int)\n",
      "{'default': None, 'conditions': [], 'min_value': 100, 'max_value': 1200, 'step': 20, 'sampling': None}\n",
      "lr (Choice)\n",
      "{'default': 0.1, 'conditions': [], 'values': (0.1, 0.01, 0.001, 0.0001), 'ordered': True}\n"
     ]
    }
   ],
   "source": [
    "tuner.search_space_summary()"
   ]
  },
  {
   "cell_type": "markdown",
   "metadata": {},
   "source": [
    "# Running the tuner"
   ]
  },
  {
   "cell_type": "code",
   "execution_count": 35,
   "metadata": {
    "colab": {
     "base_uri": "https://localhost:8080/"
    },
    "id": "-_m5HimB0JRj",
    "outputId": "7fb0c47f-f654-4fc2-91ee-2a24a9e86caa"
   },
   "outputs": [
    {
     "name": "stdout",
     "output_type": "stream",
     "text": [
      "Trial 65 Complete [00h 03m 01s]\n",
      "val_accuracy: 0.4736842215061188\n",
      "\n",
      "Best val_accuracy So Far: 0.7368420958518982\n",
      "Total elapsed time: 03h 54m 44s\n",
      "INFO:tensorflow:Oracle triggered exit\n"
     ]
    }
   ],
   "source": [
    "tuner.search(x_train,y_train,validation_split=0.2,epochs=10)"
   ]
  },
  {
   "cell_type": "code",
   "execution_count": 36,
   "metadata": {
    "colab": {
     "base_uri": "https://localhost:8080/"
    },
    "id": "spWaNnuy6aci",
    "outputId": "38d4f4e5-026e-4451-8d8c-7118c4bea5c3"
   },
   "outputs": [
    {
     "name": "stdout",
     "output_type": "stream",
     "text": [
      "Results summary\n",
      "Results in ./untitled_project\n",
      "Showing 10 best trials\n",
      "Objective(name='val_accuracy', direction='max')\n",
      "Trial summary\n",
      "Hyperparameters:\n",
      "layers1: 3\n",
      "num_filters10: 64\n",
      "layers2: 1\n",
      "num_filters20: 64\n",
      "dense_layers: 1\n",
      "units0: 180\n",
      "units1: 220\n",
      "lr: 0.001\n",
      "num_filters11: 32\n",
      "units2: 120\n",
      "units3: 700\n",
      "units4: 180\n",
      "num_filters21: 32\n",
      "num_filters22: 64\n",
      "units5: 100\n",
      "num_filters12: 32\n",
      "Score: 0.7368420958518982\n",
      "Trial summary\n",
      "Hyperparameters:\n",
      "layers1: 1\n",
      "num_filters10: 64\n",
      "layers2: 3\n",
      "num_filters20: 16\n",
      "dense_layers: 3\n",
      "units0: 520\n",
      "units1: 420\n",
      "lr: 0.001\n",
      "num_filters11: 64\n",
      "units2: 580\n",
      "units3: 620\n",
      "units4: 1020\n",
      "num_filters21: 32\n",
      "num_filters22: 32\n",
      "units5: 680\n",
      "num_filters12: 16\n",
      "Score: 0.6842105388641357\n",
      "Trial summary\n",
      "Hyperparameters:\n",
      "layers1: 2\n",
      "num_filters10: 16\n",
      "layers2: 3\n",
      "num_filters20: 16\n",
      "dense_layers: 2\n",
      "units0: 880\n",
      "units1: 340\n",
      "lr: 0.001\n",
      "num_filters11: 32\n",
      "units2: 220\n",
      "units3: 800\n",
      "units4: 860\n",
      "num_filters21: 64\n",
      "num_filters22: 16\n",
      "units5: 1120\n",
      "num_filters12: 64\n",
      "Score: 0.6842105388641357\n",
      "Trial summary\n",
      "Hyperparameters:\n",
      "layers1: 2\n",
      "num_filters10: 16\n",
      "layers2: 3\n",
      "num_filters20: 32\n",
      "dense_layers: 3\n",
      "units0: 720\n",
      "units1: 760\n",
      "lr: 0.001\n",
      "num_filters11: 64\n",
      "units2: 440\n",
      "units3: 860\n",
      "units4: 180\n",
      "num_filters21: 64\n",
      "num_filters22: 64\n",
      "units5: 640\n",
      "num_filters12: 64\n",
      "Score: 0.6842105388641357\n",
      "Trial summary\n",
      "Hyperparameters:\n",
      "layers1: 3\n",
      "num_filters10: 32\n",
      "layers2: 3\n",
      "num_filters20: 32\n",
      "dense_layers: 5\n",
      "units0: 980\n",
      "units1: 1100\n",
      "lr: 0.001\n",
      "num_filters11: 64\n",
      "units2: 360\n",
      "units3: 900\n",
      "units4: 1160\n",
      "num_filters21: 32\n",
      "num_filters22: 16\n",
      "units5: 1040\n",
      "num_filters12: 16\n",
      "Score: 0.6315789222717285\n",
      "Trial summary\n",
      "Hyperparameters:\n",
      "layers1: 3\n",
      "num_filters10: 64\n",
      "layers2: 1\n",
      "num_filters20: 32\n",
      "dense_layers: 2\n",
      "units0: 500\n",
      "units1: 1000\n",
      "lr: 0.001\n",
      "num_filters11: 16\n",
      "units2: 320\n",
      "units3: 1040\n",
      "units4: 740\n",
      "num_filters21: 64\n",
      "num_filters22: 64\n",
      "units5: 620\n",
      "num_filters12: 32\n",
      "Score: 0.6315789222717285\n",
      "Trial summary\n",
      "Hyperparameters:\n",
      "layers1: 1\n",
      "num_filters10: 64\n",
      "layers2: 2\n",
      "num_filters20: 32\n",
      "dense_layers: 2\n",
      "units0: 460\n",
      "units1: 1000\n",
      "lr: 0.001\n",
      "num_filters11: 16\n",
      "units2: 180\n",
      "units3: 820\n",
      "units4: 1080\n",
      "num_filters21: 64\n",
      "num_filters22: 16\n",
      "units5: 1100\n",
      "num_filters12: 32\n",
      "Score: 0.6315789222717285\n",
      "Trial summary\n",
      "Hyperparameters:\n",
      "layers1: 2\n",
      "num_filters10: 32\n",
      "layers2: 2\n",
      "num_filters20: 16\n",
      "dense_layers: 4\n",
      "units0: 340\n",
      "units1: 400\n",
      "lr: 0.001\n",
      "num_filters11: 64\n",
      "units2: 660\n",
      "units3: 920\n",
      "units4: 700\n",
      "num_filters21: 16\n",
      "num_filters22: 16\n",
      "units5: 1100\n",
      "Score: 0.5789473652839661\n",
      "Trial summary\n",
      "Hyperparameters:\n",
      "layers1: 3\n",
      "num_filters10: 16\n",
      "layers2: 2\n",
      "num_filters20: 32\n",
      "dense_layers: 3\n",
      "units0: 140\n",
      "units1: 480\n",
      "lr: 0.001\n",
      "num_filters11: 16\n",
      "units2: 420\n",
      "units3: 100\n",
      "units4: 340\n",
      "num_filters21: 32\n",
      "num_filters22: 64\n",
      "units5: 440\n",
      "num_filters12: 16\n",
      "Score: 0.5789473652839661\n",
      "Trial summary\n",
      "Hyperparameters:\n",
      "layers1: 2\n",
      "num_filters10: 16\n",
      "layers2: 1\n",
      "num_filters20: 16\n",
      "dense_layers: 4\n",
      "units0: 960\n",
      "units1: 300\n",
      "lr: 0.0001\n",
      "num_filters11: 64\n",
      "units2: 1040\n",
      "units3: 780\n",
      "units4: 1060\n",
      "num_filters21: 64\n",
      "num_filters22: 32\n",
      "units5: 860\n",
      "num_filters12: 32\n",
      "Score: 0.5789473652839661\n"
     ]
    }
   ],
   "source": [
    "tuner.results_summary()"
   ]
  },
  {
   "cell_type": "markdown",
   "metadata": {},
   "source": [
    "# Saving the best model"
   ]
  },
  {
   "cell_type": "code",
   "execution_count": 37,
   "metadata": {
    "id": "29xNyIWW66kr"
   },
   "outputs": [],
   "source": [
    "best_model = tuner.get_best_models(num_models=1)[0]\n",
    "saved_cnn_model=pickle.dumps(best_model)"
   ]
  },
  {
   "cell_type": "markdown",
   "metadata": {},
   "source": [
    "# Testing the model"
   ]
  },
  {
   "cell_type": "code",
   "execution_count": 38,
   "metadata": {
    "colab": {
     "base_uri": "https://localhost:8080/"
    },
    "id": "kxyEkUQQ7EpD",
    "outputId": "e7315ea8-3a8e-4af7-9ddf-363ef95793e1"
   },
   "outputs": [
    {
     "name": "stdout",
     "output_type": "stream",
     "text": [
      "1/1 [==============================] - 5s 5s/step - loss: 0.8943 - accuracy: 0.7500\n"
     ]
    }
   ],
   "source": [
    "riceDiseaseModel=pickle.loads(saved_cnn_model)\n",
    "loss, accuracy = riceDiseaseModel.evaluate(x_test, y_test)"
   ]
  },
  {
   "cell_type": "markdown",
   "metadata": {},
   "source": [
    "# Project Analysis"
   ]
  },
  {
   "cell_type": "markdown",
   "metadata": {},
   "source": [
    "Like any other machine learning project, the first step in the rice leaf disease prediction project was to gain sufficient domain knowledge. A couple of research papers regarding the subject matter were read for the same. We understood that these 3 diseases manifest unique external visible changes on the rice leaf.\n",
    "• Leaf smut: small black linear lesions on leaf blades, leaf tips may turn grey and dry.\n",
    "• Bacterial blight: elongated lesions near the leaf tips and margins, and turns white to yellow and then grey due to fungal attack.\n",
    "• Brown spot: dark brown colored and round to oval-shaped\n",
    "  lesions on rice leaves.\n",
    "The next step was to find out a way to load the given image dataset containing an equal number of images for the three classes. For this, the ImageDataGenerator package from Keras was used. The same package was used to preprocess the images. Following image loading and preprocessing, we considered various architectures available to build the convolutional neural network and did a lot of trial and error to find out the most accurate one. The final and most tedious step was hyperparameter tuning, which was done using the RandomSearch and Hyperband packages from kerastuner.RandomSearch was found to be more convenient for hyperparameter tuning of the CNN model. After running a considerable number of trials with the training dataset(80% of the whole dataset), where the validation accuracy(with 20% of training dataset acting as validation data) was monitored for each combination of hyperparameters, the best model was selected and saved. The saved model was then tested for accuracy with the test data.\n",
    "We were able to reach 75% accuracy. Even when we could use powerful GPUs like Nvidia Tesla T4 and Nvidia Tesla G80 in google colab, due to weak network we faced recurrent session crashes. The project was also tried out in Jupyter notebook, where the system GPU was utilized using the Nvidia CUDA and CuDNN software, but running the code for a long time was not feasible with this method too as the kernel got dead several times in between the process.\n",
    "In conclusion, with a stronger GPU or a stable internet connection, the same code can be used to get a model with higher accuracy. "
   ]
  }
 ],
 "metadata": {
  "colab": {
   "collapsed_sections": [],
   "name": "tuning2",
   "provenance": []
  },
  "kernelspec": {
   "display_name": "Python 3",
   "language": "python",
   "name": "python3"
  },
  "language_info": {
   "codemirror_mode": {
    "name": "ipython",
    "version": 3
   },
   "file_extension": ".py",
   "mimetype": "text/x-python",
   "name": "python",
   "nbconvert_exporter": "python",
   "pygments_lexer": "ipython3",
   "version": "3.8.5"
  }
 },
 "nbformat": 4,
 "nbformat_minor": 1
}
